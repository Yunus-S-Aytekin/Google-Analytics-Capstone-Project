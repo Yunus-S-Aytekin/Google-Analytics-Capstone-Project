{
 "cells": [
  {
   "cell_type": "markdown",
   "metadata": {},
   "source": [
    "# Smart Device Usage of Customers using non-Bellabeat Smart Devices"
   ]
  },
  {
   "cell_type": "markdown",
   "metadata": {},
   "source": [
    "### Ask"
   ]
  },
  {
   "cell_type": "markdown",
   "metadata": {},
   "source": [
    "I am going to analyse consumers' data who use non_Bellabeat smart devices to understand why they chose other devices.\n",
    "\n",
    "Understanding those consumers' interests and their using of devices can help us attract them to our devices."
   ]
  },
  {
   "cell_type": "markdown",
   "metadata": {},
   "source": [
    "### Prepare"
   ]
  },
  {
   "cell_type": "markdown",
   "metadata": {},
   "source": [
    "I used FitBit Fitness Tracker Data for analysis. It includes information about daily activity, steps, heart rate, etc.\n",
    "\n",
    "I analysed five of them that can be used to explore users’ habits."
   ]
  },
  {
   "cell_type": "markdown",
   "metadata": {},
   "source": [
    "### Process"
   ]
  },
  {
   "cell_type": "markdown",
   "metadata": {},
   "source": [
    "I imported __pandas__ and __sqlite3__ libraries for data cleaning and manipulation.\n",
    "\n",
    "I also used __matplotlib__ and __seaborn__ libraries for data visualisation.\n",
    "\n",
    "I turned date columns to Timestamp format with pandas to manipulate the data with SQL.\n",
    "\n",
    "I used different date functions to turn them into the format I can use.\n",
    "\n",
    "And I did all of process above for five tables."
   ]
  },
  {
   "cell_type": "markdown",
   "metadata": {},
   "source": [
    "### Analyse"
   ]
  },
  {
   "cell_type": "markdown",
   "metadata": {},
   "source": [
    "- The number of steps varies widely over Time.\n",
    "\n",
    "- The Number of steps increases during active hours (8:00 to 19:00)."
   ]
  },
  {
   "cell_type": "markdown",
   "metadata": {},
   "source": [
    "- Little to no correlation between the number of steps and days."
   ]
  },
  {
   "cell_type": "markdown",
   "metadata": {},
   "source": [
    "- Positive correlation between MET(metabolic equivalent of task) and average number of steps.\n",
    "\n",
    "- Average hours of sleep affect MET value (too low and high hours of sleep reduce MET value)."
   ]
  },
  {
   "cell_type": "markdown",
   "metadata": {},
   "source": [
    "### Share"
   ]
  },
  {
   "cell_type": "markdown",
   "metadata": {},
   "source": [
    "![caption](Visualisations/output1.png)"
   ]
  },
  {
   "cell_type": "markdown",
   "metadata": {},
   "source": [
    "![caption](Visualisations/output2.png)"
   ]
  },
  {
   "cell_type": "markdown",
   "metadata": {},
   "source": [
    "![caption](Visualisations/output3.png)"
   ]
  },
  {
   "cell_type": "markdown",
   "metadata": {},
   "source": [
    "![caption](Visualisations/output4.png)"
   ]
  },
  {
   "cell_type": "markdown",
   "metadata": {},
   "source": [
    "![caption](Visualisations/output5.png)"
   ]
  },
  {
   "cell_type": "markdown",
   "metadata": {},
   "source": [
    "![caption](Visualisations/output6.png)"
   ]
  },
  {
   "cell_type": "markdown",
   "metadata": {},
   "source": [
    "### Act"
   ]
  },
  {
   "cell_type": "markdown",
   "metadata": {},
   "source": [
    "To increase the MET value, just walking or running isn’t enough.\n",
    "\n",
    "We need to increase the sleep duration and quality of our customers."
   ]
  },
  {
   "cell_type": "markdown",
   "metadata": {},
   "source": [
    "We should update our app to be sensitive to sleep duration and quality.\n",
    "\n",
    "Decisions that the app makes should distinguish between active hours and sleeping hours."
   ]
  }
 ],
 "metadata": {
  "language_info": {
   "name": "python"
  },
  "orig_nbformat": 4
 },
 "nbformat": 4,
 "nbformat_minor": 2
}
